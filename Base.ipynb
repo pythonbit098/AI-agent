{
 "cells": [
  {
   "cell_type": "code",
   "execution_count": 16,
   "metadata": {},
   "outputs": [
    {
     "data": {
      "text/plain": [
       "\"[(1, '2024-09-23', 'Groceries', 150), (2, '2024-09-23', 'Rent', 500), (3, '2024-09-23', 'Car Fuel', 80), (4, '2024-09-23', 'Phone', 12000), (5, '2024-09-23', 'Restaurant', 200), (6, '2024-09-23', 'Internet', 300), (7, '2024-09-23', 'Public Transport', 50), (8, '2024-09-23', 'Health Insurance', 400), (9, '2024-09-23', 'Clothing', 1000), (10, '2024-09-23', 'Subscriptions', 150), (11, '2024-09-24', 'Groceries', 150), (12, '2024-09-24', 'Rent', 500), (13, '2024-09-24', 'Car Fuel', 80), (14, '2024-09-24', 'Phone', 12000), (15, '2024-09-24', 'Restaurant', 200), (16, '2024-09-24', 'Internet', 300), (17, '2024-09-24', 'Public Transport', 50), (18, '2024-09-24', 'Health Insurance', 400), (19, '2024-09-24', 'clothing.', 1000), (20, '2024-09-24', 'Subscriptions', 150)]\""
      ]
     },
     "execution_count": 16,
     "metadata": {},
     "output_type": "execute_result"
    }
   ],
   "source": [
    "from langchain_community.agent_toolkits import create_sql_agent\n",
    "from langchain_community.utilities import SQLDatabase\n",
    "from langchain_groq import ChatGroq\n",
    "from langchain_community.tools.sql_database.tool import QuerySQLDataBaseTool\n",
    "from langchain.chains import create_sql_query_chain\n",
    "import os\n",
    "import re\n",
    "\n",
    "os.environ[\"GROQ_API_KEY\"] = \"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\"\n",
    "llm = ChatGroq(model=\"mixtral-8x7b-32768\", temperature = 0)\n",
    "db = SQLDatabase.from_uri(\"sqlite:///Expense.db\")\n",
    "chain = create_sql_query_chain(llm, db)\n",
    "res = chain.invoke({\"question\" : \"return all the value from the database\"})\n",
    "sql_query = (re.search(r'```sql\\n(.*?)\\n```', res, re.DOTALL).group(1)).replace('\\n', ' ') if \"\\n\" in res else res.split(':')[1]\n",
    "# sql_query\n",
    "db.run(sql_query)"
   ]
  },
  {
   "cell_type": "code",
   "execution_count": 13,
   "metadata": {},
   "outputs": [
    {
     "data": {
      "text/plain": [
       "'SQLQuery: SELECT * FROM expenses'"
      ]
     },
     "execution_count": 13,
     "metadata": {},
     "output_type": "execute_result"
    }
   ],
   "source": [
    "res"
   ]
  },
  {
   "cell_type": "code",
   "execution_count": null,
   "metadata": {},
   "outputs": [],
   "source": []
  }
 ],
 "metadata": {
  "kernelspec": {
   "display_name": "deepmind",
   "language": "python",
   "name": "python3"
  },
  "language_info": {
   "codemirror_mode": {
    "name": "ipython",
    "version": 3
   },
   "file_extension": ".py",
   "mimetype": "text/x-python",
   "name": "python",
   "nbconvert_exporter": "python",
   "pygments_lexer": "ipython3",
   "version": "3.10.14"
  }
 },
 "nbformat": 4,
 "nbformat_minor": 2
}
