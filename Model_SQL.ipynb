{
 "cells": [
  {
   "cell_type": "code",
   "execution_count": 1,
   "metadata": {},
   "outputs": [],
   "source": [
    "import os\n",
    "from sqlalchemy import create_engine, Column, Integer, String, Date, MetaData\n",
    "from sqlalchemy.ext.declarative import declarative_base\n",
    "from sqlalchemy.orm import sessionmaker\n",
    "from datetime import datetime\n",
    "from langchain import LLMChain, PromptTemplate\n",
    "from langchain_groq import ChatGroq\n",
    "\n",
    "os.environ[\"GROQ_API_KEY\"] = \"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\""
   ]
  },
  {
   "cell_type": "code",
   "execution_count": 2,
   "metadata": {},
   "outputs": [
    {
     "name": "stderr",
     "output_type": "stream",
     "text": [
      "/tmp/ipykernel_7297/679481064.py:1: MovedIn20Warning: The ``declarative_base()`` function is now available as sqlalchemy.orm.declarative_base(). (deprecated since: 2.0) (Background on SQLAlchemy 2.0 at: https://sqlalche.me/e/b8d9)\n",
      "  Base = declarative_base()\n"
     ]
    }
   ],
   "source": [
    "Base = declarative_base()\n",
    "\n",
    "class Expense(Base):\n",
    "    __tablename__ = 'expenses'\n",
    "    id = Column(Integer, primary_key=True)\n",
    "    date = Column(Date)\n",
    "    category = Column(String)\n",
    "    amount = Column(Integer)\n",
    "\n",
    "# Create a database engine\n",
    "engine = create_engine('sqlite:///expense.db')\n",
    "Base.metadata.create_all(engine)\n",
    "Session = sessionmaker(bind=engine)\n",
    "session = Session()\n",
    "\n",
    "llm = ChatGroq(model=\"llama3-8b-8192\", temperature=0)"
   ]
  },
  {
   "cell_type": "code",
   "execution_count": 3,
   "metadata": {},
   "outputs": [],
   "source": [
    "prompt_template = \"\"\"\n",
    "You are an assistant that extracts expense details from the user's input. \n",
    "The input is: {user_input}\n",
    "Extract the amount, category, and current date based on your knowledge.\n",
    "\n",
    "For Example: if the user gives the input like \"i have spend 100 for food today\"\n",
    "    Then you have to extract the data like Amount: 100 and the category: \"Food\" form the user input.\n",
    "\n",
    "**always double check if the data's are extracted properly**\n",
    "\n",
    "your response always need to like **example: Amount: 100, Category: food.**\n",
    "only the amount and the category and always use ** before and after the Amount and Category text\n",
    "** if can't able to find Category then return Category: unknown ** \n",
    "\n",
    "\"\"\"\n"
   ]
  },
  {
   "cell_type": "code",
   "execution_count": 52,
   "metadata": {},
   "outputs": [],
   "source": [
    "prompt_template = \"\"\"\n",
    "\n",
    "    You are an assistant that extracts expense details from the user's input. \n",
    "The input is: {user_input}\n",
    "Extract the amount, category, commend and current date based on your knowledge.\n",
    "\n",
    "For Example: \n",
    "1) if the user gives the input like \"i have spend 100 for food today\"\n",
    "Then you have to extract the data like Amount: 100 and the category: \"Food\" and\n",
    "the commend is Unknown because the user not mension the reason in the user input.\n",
    "\n",
    "2) if the user give the input like \"i have spend 100 for car fuel today\" then you have to extract\n",
    "the data like Amount: 100, category: fuel and the commend: car. as the user mension that he spend 100 \n",
    "for the car fuel.\n",
    "\n",
    "**always double check if the data's are extracted properly**\n",
    "\n",
    "your response always need to like **example: Amount: 100, Category: food. commend: car**\n",
    "only the amount and the category and always use ** before and after the Amount and Category text\n",
    "** if can't able to find Category then return Category: unknown ** \n",
    "\n",
    "\n",
    "\"\"\""
   ]
  },
  {
   "cell_type": "code",
   "execution_count": 13,
   "metadata": {},
   "outputs": [],
   "source": [
    "\n",
    "def extract_expense(user_input):\n",
    "    prompt = PromptTemplate(input_variables=[\"user_input\"], template=prompt_template)\n",
    "    llm_chain = LLMChain(llm=llm, prompt=prompt)\n",
    "    \n",
    "    response = llm_chain.run(user_input)\n",
    "    \n",
    "\n",
    "    # print(response)\n",
    "    # return response\n",
    "    # Parsing the output (You may adjust parsing based on Llama's output)\n",
    "    amount = int(response.split(\"**\")[1].split(\",\")[0].split(\":\")[1].strip())\n",
    "    category = response.split(\"**\")[1].split(\",\")[1].split(\":\")[1].strip()\n",
    "    date = datetime.today().date()\n",
    "    \n",
    "    # If the category is unclear, the agent will ask the user for clarification.\n",
    "    if category.lower() == \"unknown\":\n",
    "        category = input(\"Which category does this spending come under? \")\n",
    "    \n",
    "    # Save the extracted data to the SQL database\n",
    "    new_expense = Expense(date=date, category=category, amount=amount)\n",
    "    session.add(new_expense)\n",
    "    session.commit()\n",
    "    \n",
    "    return f\"Expense added: {amount} spent on {category}.\""
   ]
  },
  {
   "cell_type": "code",
   "execution_count": 11,
   "metadata": {},
   "outputs": [],
   "source": [
    "def retrieve_expense(date=None, week=None, category=None):\n",
    "    query = session.query(Expense)\n",
    "    \n",
    "    if date:\n",
    "        query = query.filter(Expense.date == date)\n",
    "    if week:\n",
    "        start_week = datetime.today() - timedelta(days=datetime.today().weekday())\n",
    "        end_week = start_week + timedelta(days=6)\n",
    "        query = query.filter(Expense.date.between(start_week, end_week))\n",
    "    if category:\n",
    "        query = query.filter(Expense.category == category)\n",
    "    \n",
    "    total_spent = sum(expense.amount for expense in query.all())\n",
    "    return total_spent\n",
    "    # return query.all()\n"
   ]
  },
  {
   "cell_type": "code",
   "execution_count": 6,
   "metadata": {},
   "outputs": [
    {
     "name": "stderr",
     "output_type": "stream",
     "text": [
      "/tmp/ipykernel_7297/2728415002.py:3: LangChainDeprecationWarning: The class `LLMChain` was deprecated in LangChain 0.1.17 and will be removed in 1.0. Use RunnableSequence, e.g., `prompt | llm` instead.\n",
      "  llm_chain = LLMChain(llm=llm, prompt=prompt)\n",
      "/tmp/ipykernel_7297/2728415002.py:5: LangChainDeprecationWarning: The method `Chain.run` was deprecated in langchain 0.1.0 and will be removed in 1.0. Use invoke instead.\n",
      "  response = llm_chain.run(user_input)\n"
     ]
    },
    {
     "name": "stdout",
     "output_type": "stream",
     "text": [
      "I'm ready to extract the expense details.\n",
      "\n",
      "For the input: \"Today I spent 100 for food\"\n",
      "\n",
      "I extracted the following details:\n",
      "\n",
      "**Amount: 100, Category: food**\n",
      "\n",
      "Please let me know if these details are correct or not!\n"
     ]
    },
    {
     "data": {
      "text/plain": [
       "'I\\'m ready to extract the expense details.\\n\\nFor the input: \"Today I spent 100 for food\"\\n\\nI extracted the following details:\\n\\n**Amount: 100, Category: food**\\n\\nPlease let me know if these details are correct or not!'"
      ]
     },
     "execution_count": 6,
     "metadata": {},
     "output_type": "execute_result"
    }
   ],
   "source": [
    "user_input = \"Today I spent 100 for food\"\n",
    "extract_expense(user_input)"
   ]
  },
  {
   "cell_type": "code",
   "execution_count": 8,
   "metadata": {},
   "outputs": [
    {
     "name": "stdout",
     "output_type": "stream",
     "text": [
      "400\n"
     ]
    }
   ],
   "source": [
    "print(retrieve_expense())"
   ]
  },
  {
   "cell_type": "code",
   "execution_count": 15,
   "metadata": {},
   "outputs": [
    {
     "name": "stdout",
     "output_type": "stream",
     "text": [
      "1 150 2024-09-19 Groceries\n",
      "2 500 2024-09-19 Rent\n",
      "3 80 2024-09-19 Car Fuel\n",
      "4 12000 2024-09-19 Phone\n",
      "5 200 2024-09-19 Restaurant\n",
      "6 300 2024-09-19 Internet\n",
      "7 50 2024-09-19 Public Transport\n",
      "8 400 2024-09-19 Health Insurance\n",
      "9 1000 2024-09-19 Clothing\n",
      "10 150 2024-09-19 Subscriptions\n"
     ]
    }
   ],
   "source": [
    "query = session.query(Expense)\n",
    "for i in query.all():\n",
    "    print(i.id, i.amount, i.date, i.category)"
   ]
  },
  {
   "cell_type": "code",
   "execution_count": 8,
   "metadata": {},
   "outputs": [],
   "source": [
    "test_inputs = [\n",
    "    \"Today I spent 150 on groceries.\",\n",
    "    \"I paid 500 for rent this week.\",\n",
    "    \"Yesterday I spent 80 on car fuel.\",\n",
    "    \"I bought a new phone for 12000.\",\n",
    "    \"Spent 200 on a restaurant with friends last night.\",\n",
    "    \"Paid 300 for my internet bill today.\",\n",
    "    \"I spent 50 on public transport this morning.\",\n",
    "    \"I had to pay 400 for health insurance.\",\n",
    "    \"I spent 1000 on clothing during the weekend.\",\n",
    "    \"Spent 150 on subscriptions last month.\"\n",
    "]\n"
   ]
  },
  {
   "cell_type": "code",
   "execution_count": 14,
   "metadata": {},
   "outputs": [],
   "source": [
    "for i in test_inputs:\n",
    "    extract_expense(i)"
   ]
  },
  {
   "cell_type": "code",
   "execution_count": 44,
   "metadata": {},
   "outputs": [
    {
     "data": {
      "text/plain": [
       "'150'"
      ]
     },
     "execution_count": 44,
     "metadata": {},
     "output_type": "execute_result"
    }
   ],
   "source": [
    "extract_expense(test_inputs[0]).split(\"**\")[1].split(\",\")[0].split(\":\")[1].strip()"
   ]
  },
  {
   "cell_type": "code",
   "execution_count": null,
   "metadata": {},
   "outputs": [],
   "source": []
  }
 ],
 "metadata": {
  "kernelspec": {
   "display_name": "deepmind",
   "language": "python",
   "name": "python3"
  },
  "language_info": {
   "codemirror_mode": {
    "name": "ipython",
    "version": 3
   },
   "file_extension": ".py",
   "mimetype": "text/x-python",
   "name": "python",
   "nbconvert_exporter": "python",
   "pygments_lexer": "ipython3",
   "version": "3.9.19"
  }
 },
 "nbformat": 4,
 "nbformat_minor": 2
}
